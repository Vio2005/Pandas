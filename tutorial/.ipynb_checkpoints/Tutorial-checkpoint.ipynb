{
 "cells": [
  {
   "cell_type": "code",
   "execution_count": 7,
   "id": "df8a2935-1ed1-4b58-a072-3cd67f15039b",
   "metadata": {},
   "outputs": [
    {
     "name": "stdout",
     "output_type": "stream",
     "text": [
      "   First Name    Last Name\n",
      "27      Daoud     Al-Sabah\n",
      "23     Isolde      Alstain\n",
      "36  Katherine      Atherly\n",
      "6       Katie     Atherton\n",
      "26     Eileen       Barton\n",
      "17        Tom         Bell\n",
      "7       Frank     Bellwood\n",
      "21      Frank     Boughton\n",
      "25      Melia       Brwyne\n",
      "34    Jessica        Chang\n",
      "8       Linda       Cooper\n",
      "31        Rob      Corwick\n",
      "33       Judy      Corwick\n",
      "9       Brent     Cronwith\n",
      "20    Sherrie  Dixon-Waite\n",
      "30       Jean     Fontaine\n",
      "32      Larry     Franklin\n",
      "1         Joe     Gonzales\n",
      "4    Kendrick     Hapsbuch\n",
      "5        Mark      Henders\n",
      "3      Sheryl         Kane\n",
      "16        Pam       Kegler\n",
      "18     Tommie    Kellerman\n",
      "19       Theo      Kourios\n",
      "22      Janet       Miller\n",
      "35      Maria      Mivelli\n",
      "29     Ursula      Mueller\n",
      "24       Mark      Sammler\n",
      "2        Gail        Scote\n",
      "10    Sandrae      Simpson\n",
      "11      Randy      Sindole\n",
      "12      Ellen        Smith\n",
      "0      Howard        Smith\n",
      "14     Tadeuz     Szcznyck\n",
      "13      Tuome       Vuanuo\n",
      "15      Tammy           Wu\n",
      "28    Melissa       Zostoc\n"
     ]
    }
   ],
   "source": [
    "\n",
    "import pandas as pd\n",
    "excel_data=pd.read_excel(\"C:\\\\Users\\\\Yu Yu Wai\\\\OneDrive\\\\Documents\\\\GitHub\\\\Pandas\\\\tutorial\\\\abc.xlsx\")\n",
    "df=pd.DataFrame(excel_data[[\"First Name\",\"Last Name\",\"Dept\"]])\n",
    "print(df.groupby(by=[\"Dept\"]).mean())"
   ]
  },
  {
   "cell_type": "code",
   "execution_count": null,
   "id": "d6084f98-1bc8-44be-b907-4bc1dcfa27b1",
   "metadata": {},
   "outputs": [],
   "source": []
  },
  {
   "cell_type": "code",
   "execution_count": null,
   "id": "4983e86a-2387-4f46-883e-13812ae06768",
   "metadata": {},
   "outputs": [],
   "source": []
  },
  {
   "cell_type": "code",
   "execution_count": null,
   "id": "587da331-3bba-4040-b5a8-728d607c4c62",
   "metadata": {},
   "outputs": [],
   "source": []
  },
  {
   "cell_type": "code",
   "execution_count": null,
   "id": "f869ec9e-d964-46fb-9d2c-17ba71c505a7",
   "metadata": {},
   "outputs": [],
   "source": []
  },
  {
   "cell_type": "code",
   "execution_count": null,
   "id": "2925cfaa-a08f-4ae4-98fc-174a2d3c4094",
   "metadata": {},
   "outputs": [],
   "source": []
  },
  {
   "cell_type": "code",
   "execution_count": null,
   "id": "7ec91ad2-f8a3-4af8-b8ee-83aca572a021",
   "metadata": {},
   "outputs": [],
   "source": []
  },
  {
   "cell_type": "code",
   "execution_count": null,
   "id": "d328c19a-cdbf-4b6b-bf76-f2749a2d94bc",
   "metadata": {},
   "outputs": [],
   "source": []
  },
  {
   "cell_type": "code",
   "execution_count": null,
   "id": "a1e755bf-10a1-4d49-80fb-6bb4a22ce52b",
   "metadata": {},
   "outputs": [],
   "source": []
  },
  {
   "cell_type": "code",
   "execution_count": null,
   "id": "4c4f9cd4-a8d6-43d0-9dd0-89c7ca53c95e",
   "metadata": {},
   "outputs": [],
   "source": []
  },
  {
   "cell_type": "code",
   "execution_count": null,
   "id": "d48f4015-854a-409c-81ba-8a6ad753fd8a",
   "metadata": {},
   "outputs": [],
   "source": []
  },
  {
   "cell_type": "code",
   "execution_count": null,
   "id": "75bbbda8-a3cf-45bc-84ca-3d410857ed00",
   "metadata": {},
   "outputs": [],
   "source": []
  }
 ],
 "metadata": {
  "kernelspec": {
   "display_name": "Python 3 (ipykernel)",
   "language": "python",
   "name": "python3"
  },
  "language_info": {
   "codemirror_mode": {
    "name": "ipython",
    "version": 3
   },
   "file_extension": ".py",
   "mimetype": "text/x-python",
   "name": "python",
   "nbconvert_exporter": "python",
   "pygments_lexer": "ipython3",
   "version": "3.11.0"
  }
 },
 "nbformat": 4,
 "nbformat_minor": 5
}
